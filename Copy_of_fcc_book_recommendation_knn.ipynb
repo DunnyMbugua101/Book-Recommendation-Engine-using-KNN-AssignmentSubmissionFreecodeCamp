{
  "cells": [
    {
      "cell_type": "code",
      "execution_count": null,
      "metadata": {
        "id": "Y1onB6kUvo4Z"
      },
      "outputs": [],
      "source": [
        "# import libraries (you may add additional imports but you may not have to)\n",
        "import numpy as np\n",
        "import pandas as pd\n",
        "from scipy.sparse import csr_matrix\n",
        "from sklearn.neighbors import NearestNeighbors\n",
        "import matplotlib.pyplot as plt"
      ]
    },
    {
      "cell_type": "code",
      "execution_count": null,
      "metadata": {
        "id": "iAQGqqO_vo4d",
        "outputId": "eeb7402a-da51-4ef4-c052-a37fd1ada072",
        "colab": {
          "base_uri": "https://localhost:8080/"
        }
      },
      "outputs": [
        {
          "output_type": "stream",
          "name": "stdout",
          "text": [
            "--2025-06-02 22:24:17--  https://cdn.freecodecamp.org/project-data/books/book-crossings.zip\n",
            "Resolving cdn.freecodecamp.org (cdn.freecodecamp.org)... 104.26.3.33, 172.67.70.149, 104.26.2.33, ...\n",
            "Connecting to cdn.freecodecamp.org (cdn.freecodecamp.org)|104.26.3.33|:443... connected.\n",
            "HTTP request sent, awaiting response... 200 OK\n",
            "Length: 26085508 (25M) [application/zip]\n",
            "Saving to: ‘book-crossings.zip.1’\n",
            "\n",
            "book-crossings.zip. 100%[===================>]  24.88M   106MB/s    in 0.2s    \n",
            "\n",
            "2025-06-02 22:24:17 (106 MB/s) - ‘book-crossings.zip.1’ saved [26085508/26085508]\n",
            "\n",
            "Archive:  book-crossings.zip\n",
            "replace BX-Book-Ratings.csv? [y]es, [n]o, [A]ll, [N]one, [r]ename: "
          ]
        }
      ],
      "source": [
        "# get data files\n",
        "!wget https://cdn.freecodecamp.org/project-data/books/book-crossings.zip\n",
        "\n",
        "!unzip book-crossings.zip\n",
        "\n",
        "books_filename = 'BX-Books.csv'\n",
        "ratings_filename = 'BX-Book-Ratings.csv'"
      ]
    },
    {
      "cell_type": "code",
      "execution_count": null,
      "metadata": {
        "id": "NClILWOiEd6Q"
      },
      "outputs": [],
      "source": [
        "# import csv data into dataframes\n",
        "df_books = pd.read_csv(\n",
        "    books_filename,\n",
        "    encoding = \"ISO-8859-1\",\n",
        "    sep=\";\",\n",
        "    header=0,\n",
        "    names=['isbn', 'title', 'author'],\n",
        "    usecols=['isbn', 'title', 'author'],\n",
        "    dtype={'isbn': 'str', 'title': 'str', 'author': 'str'})\n",
        "\n",
        "df_ratings = pd.read_csv(\n",
        "    ratings_filename,\n",
        "    encoding = \"ISO-8859-1\",\n",
        "    sep=\";\",\n",
        "    header=0,\n",
        "    names=['user', 'isbn', 'rating'],\n",
        "    usecols=['user', 'isbn', 'rating'],\n",
        "    dtype={'user': 'int32', 'isbn': 'str', 'rating': 'float32'})"
      ]
    },
    {
      "cell_type": "code",
      "source": [
        "# Step 1: Get user and book rating counts\n",
        "user_counts = df_ratings['user'].value_counts()\n",
        "book_counts = df_ratings['isbn'].value_counts()\n",
        "\n",
        "# Step 2: Filter users with >= 200 ratings and books with >= 100 ratings\n",
        "users_to_keep = user_counts[user_counts >= 200].index\n",
        "books_to_keep = book_counts[book_counts >= 100].index\n",
        "\n",
        "# Step 3: Filter the ratings dataframe\n",
        "df_ratings_filtered = df_ratings[\n",
        "    df_ratings['user'].isin(users_to_keep) &\n",
        "    df_ratings['isbn'].isin(books_to_keep)\n",
        "]\n",
        "\n",
        "# Step 4: Merge with books to get titles\n",
        "df_final = df_ratings_filtered.merge(df_books, on='isbn')\n",
        "\n",
        "# Step 5: Remove books with ratings of 0 (implicit feedback)\n",
        "df_final = df_final[df_final['rating'] != 0]\n",
        "\n",
        "# Step 6: Create user-book matrix\n",
        "user_book_matrix = df_final.pivot_table(\n",
        "    index='user',\n",
        "    columns='title',\n",
        "    values='rating'\n",
        ").fillna(0)\n",
        "\n",
        "# Step 7: Transpose to get book-user matrix\n",
        "book_user_matrix = user_book_matrix.T\n",
        "\n",
        "# Step 8: Convert to sparse matrix\n",
        "book_user_sparse = csr_matrix(book_user_matrix.values)\n",
        "\n",
        "# Step 9: Fit KNN model\n",
        "model_knn = NearestNeighbors(metric='cosine', algorithm='brute', n_neighbors=6)\n",
        "model_knn.fit(book_user_sparse)\n",
        "\n",
        "def get_recommends(book=\"\"):\n",
        "    if book not in book_user_matrix.index:\n",
        "        return [book, []]\n",
        "\n",
        "    # Get book index\n",
        "    book_idx = list(book_user_matrix.index).index(book)\n",
        "\n",
        "    # Find neighbors\n",
        "    distances, indices = model_knn.kneighbors(\n",
        "        book_user_matrix.iloc[book_idx].values.reshape(1, -1),\n",
        "        n_neighbors=6\n",
        "    )\n",
        "\n",
        "    # Create recommendations (skip the first one as it's the book itself)\n",
        "    recommendations = []\n",
        "    for i in range(1, len(distances.flatten())):\n",
        "        rec_book = book_user_matrix.index[indices.flatten()[i]]\n",
        "        distance = distances.flatten()[i]\n",
        "        recommendations.append([rec_book, distance])\n",
        "\n",
        "    # Sort by distance in DESCENDING order (highest distance first)\n",
        "    recommendations.sort(key=lambda x: x[1], reverse=True)\n",
        "\n",
        "    return [book, recommendations]\n"
      ],
      "metadata": {
        "id": "BDkav7hPviTb"
      },
      "execution_count": null,
      "outputs": []
    },
    {
      "cell_type": "code",
      "execution_count": null,
      "metadata": {
        "id": "jd2SLCh8oxMh",
        "collapsed": true,
        "outputId": "df8ed28b-d0b6-4683-9bbf-681d45134338",
        "colab": {
          "base_uri": "https://localhost:8080/"
        }
      },
      "outputs": [
        {
          "output_type": "stream",
          "name": "stdout",
          "text": [
            "[\"Where the Heart Is (Oprah's Book Club (Paperback))\", [[\"I'll Be Seeing You\", np.float32(0.8016211)], ['The Weight of Water', np.float32(0.77085835)], ['The Surgeon', np.float32(0.7699411)], ['I Know This Much Is True', np.float32(0.7677075)], ['The Lovely Bones: A Novel', np.float32(0.7234864)]]]\n",
            "You passed the challenge! 🎉🎉🎉🎉🎉\n"
          ]
        }
      ],
      "source": [
        "books = get_recommends(\"Where the Heart Is (Oprah's Book Club (Paperback))\")\n",
        "print(books)\n",
        "\n",
        "def test_book_recommendation():\n",
        "  test_pass = True\n",
        "  recommends = get_recommends(\"Where the Heart Is (Oprah's Book Club (Paperback))\")\n",
        "  if recommends[0] != \"Where the Heart Is (Oprah's Book Club (Paperback))\":\n",
        "    test_pass = False\n",
        "  recommended_books = [\"I'll Be Seeing You\", 'The Weight of Water', 'The Surgeon', 'I Know This Much Is True']\n",
        "  recommended_books_dist = [0.8, 0.77, 0.77, 0.77]\n",
        "  for i in range(2):\n",
        "    if recommends[1][i][0] not in recommended_books:\n",
        "      test_pass = False\n",
        "    if abs(recommends[1][i][1] - recommended_books_dist[i]) >= 0.05:\n",
        "      test_pass = False\n",
        "  if test_pass:\n",
        "    print(\"You passed the challenge! 🎉🎉🎉🎉🎉\")\n",
        "  else:\n",
        "    print(\"You haven't passed yet. Keep trying!\")\n",
        "\n",
        "test_book_recommendation()"
      ]
    }
  ],
  "metadata": {
    "colab": {
      "provenance": [],
      "gpuType": "T4"
    },
    "kernelspec": {
      "display_name": "Python 3",
      "name": "python3"
    },
    "language_info": {
      "codemirror_mode": {
        "name": "ipython",
        "version": 3
      },
      "file_extension": ".py",
      "mimetype": "text/x-python",
      "name": "python",
      "nbconvert_exporter": "python",
      "pygments_lexer": "ipython3",
      "version": "3.6.5"
    },
    "accelerator": "GPU"
  },
  "nbformat": 4,
  "nbformat_minor": 0
}